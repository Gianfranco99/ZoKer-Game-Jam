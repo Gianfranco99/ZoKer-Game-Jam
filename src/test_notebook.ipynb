{
 "cells": [
  {
   "cell_type": "code",
   "execution_count": 1,
   "metadata": {},
   "outputs": [
    {
     "name": "stdout",
     "output_type": "stream",
     "text": [
      "Collecting python-telegram-bot\n",
      "  Downloading python_telegram_bot-21.6-py3-none-any.whl.metadata (17 kB)\n",
      "Collecting httpx~=0.27 (from python-telegram-bot)\n",
      "  Downloading httpx-0.27.2-py3-none-any.whl.metadata (7.1 kB)\n",
      "Requirement already satisfied: anyio in c:\\users\\noel\\anaconda3\\envs\\bitcoin_fee_prediction\\lib\\site-packages (from httpx~=0.27->python-telegram-bot) (4.2.0)\n",
      "Requirement already satisfied: certifi in c:\\users\\noel\\anaconda3\\envs\\bitcoin_fee_prediction\\lib\\site-packages (from httpx~=0.27->python-telegram-bot) (2024.7.4)\n",
      "Collecting httpcore==1.* (from httpx~=0.27->python-telegram-bot)\n",
      "  Downloading httpcore-1.0.6-py3-none-any.whl.metadata (21 kB)\n",
      "Requirement already satisfied: idna in c:\\users\\noel\\anaconda3\\envs\\bitcoin_fee_prediction\\lib\\site-packages (from httpx~=0.27->python-telegram-bot) (3.7)\n",
      "Requirement already satisfied: sniffio in c:\\users\\noel\\anaconda3\\envs\\bitcoin_fee_prediction\\lib\\site-packages (from httpx~=0.27->python-telegram-bot) (1.3.0)\n",
      "Collecting h11<0.15,>=0.13 (from httpcore==1.*->httpx~=0.27->python-telegram-bot)\n",
      "  Downloading h11-0.14.0-py3-none-any.whl.metadata (8.2 kB)\n",
      "Requirement already satisfied: exceptiongroup>=1.0.2 in c:\\users\\noel\\anaconda3\\envs\\bitcoin_fee_prediction\\lib\\site-packages (from anyio->httpx~=0.27->python-telegram-bot) (1.2.0)\n",
      "Requirement already satisfied: typing-extensions>=4.1 in c:\\users\\noel\\anaconda3\\envs\\bitcoin_fee_prediction\\lib\\site-packages (from anyio->httpx~=0.27->python-telegram-bot) (4.11.0)\n",
      "Downloading python_telegram_bot-21.6-py3-none-any.whl (652 kB)\n",
      "   ---------------------------------------- 0.0/652.1 kB ? eta -:--:--\n",
      "   ---------------------------------------- 652.1/652.1 kB 6.3 MB/s eta 0:00:00\n",
      "Downloading httpx-0.27.2-py3-none-any.whl (76 kB)\n",
      "Downloading httpcore-1.0.6-py3-none-any.whl (78 kB)\n",
      "Downloading h11-0.14.0-py3-none-any.whl (58 kB)\n",
      "Installing collected packages: h11, httpcore, httpx, python-telegram-bot\n",
      "Successfully installed h11-0.14.0 httpcore-1.0.6 httpx-0.27.2 python-telegram-bot-21.6\n"
     ]
    }
   ],
   "source": [
    "!pip install python-telegram-bot\n"
   ]
  }
 ],
 "metadata": {
  "kernelspec": {
   "display_name": "bitcoin_fee_prediction",
   "language": "python",
   "name": "python3"
  },
  "language_info": {
   "codemirror_mode": {
    "name": "ipython",
    "version": 3
   },
   "file_extension": ".py",
   "mimetype": "text/x-python",
   "name": "python",
   "nbconvert_exporter": "python",
   "pygments_lexer": "ipython3",
   "version": "3.8.19"
  }
 },
 "nbformat": 4,
 "nbformat_minor": 2
}
